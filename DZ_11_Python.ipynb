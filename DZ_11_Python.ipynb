{
 "cells": [
  {
   "cell_type": "code",
   "execution_count": 1,
   "id": "2c1d9342",
   "metadata": {},
   "outputs": [],
   "source": [
    "from sympy import *\n",
    "a = 0.6\n",
    "b = 5.5\n",
    "c = 10\n",
    "d = -5\n",
    "x = Symbol ('x')\n",
    "Функция = a * (x**3) + b * (x**2) + c * x + d"
   ]
  },
  {
   "cell_type": "code",
   "execution_count": 2,
   "id": "760cc6a4",
   "metadata": {},
   "outputs": [
    {
     "data": {
      "text/latex": [
       "$\\displaystyle 0.6 x^{3} + 5.5 x^{2} + 10 x - 5$"
      ],
      "text/plain": [
       "0.6*x**3 + 5.5*x**2 + 10*x - 5"
      ]
     },
     "execution_count": 2,
     "metadata": {},
     "output_type": "execute_result"
    }
   ],
   "source": [
    "Функция"
   ]
  },
  {
   "cell_type": "code",
   "execution_count": 3,
   "id": "70e5cd6e",
   "metadata": {},
   "outputs": [
    {
     "name": "stdout",
     "output_type": "stream",
     "text": [
      "-6.32174537314726 + 0.e-22*I -3.25046383307744 - 0.e-22*I 0.405542539558034 - 0.e-21*I\n"
     ]
    }
   ],
   "source": [
    "#Определить корни\n",
    "x = Symbol ('x')\n",
    "Функция = a * (x**3) + b * (x**2) + c * x + d\n",
    "y = solve(Функция)\n",
    "x1 = (y[0])\n",
    "x2 = (y[1])\n",
    "x3 = (y[2])\n",
    "print(x1,x2,x3)"
   ]
  },
  {
   "cell_type": "code",
   "execution_count": 4,
   "id": "bad88863",
   "metadata": {},
   "outputs": [
    {
     "data": {
      "text/latex": [
       "$\\displaystyle \\left(-1.11111111111111 < x \\wedge x < \\infty\\right) \\vee \\left(-\\infty < x \\wedge x < -5.0\\right)$"
      ],
      "text/plain": [
       "((-1.11111111111111 < x) & (x < oo)) | ((-oo < x) & (x < -5.0))"
      ]
     },
     "execution_count": 4,
     "metadata": {},
     "output_type": "execute_result"
    }
   ],
   "source": [
    "# Найти интервалы, на которых функция возрастает\n",
    "fd = diff(Функция)\n",
    "solve(fd > 0)"
   ]
  },
  {
   "cell_type": "code",
   "execution_count": 5,
   "id": "5217c50a",
   "metadata": {},
   "outputs": [
    {
     "name": "stdout",
     "output_type": "stream",
     "text": [
      "(-5.0 < x) & (x < -1.11111111111111)\n"
     ]
    }
   ],
   "source": [
    "# Найти интервалы, на которых функция убывает\n",
    "print(solve(fd < 0))"
   ]
  },
  {
   "cell_type": "code",
   "execution_count": 6,
   "id": "0c944098",
   "metadata": {},
   "outputs": [
    {
     "data": {
      "image/png": "[encoded data removed]",
      "text/plain": [
       "<Figure size 640x480 with 1 Axes>"
      ]
     },
     "metadata": {},
     "output_type": "display_data"
    }
   ],
   "source": [
    "# Построить графикfrom sympy.plotting import plot\n",
    "from sympy.plotting import plot\n",
    "gr = plot(Функция,(x,-10,5), line_color = \"red\", title = \"График функции\")\n",
    "\n",
    "\n",
    "\n"
   ]
  },
  {
   "cell_type": "code",
   "execution_count": 7,
   "id": "d090d6c0",
   "metadata": {},
   "outputs": [
    {
     "name": "stdout",
     "output_type": "stream",
     "text": [
      "7.50000000000000\n"
     ]
    }
   ],
   "source": [
    "#Вычислить вершину\n",
    "корни = solve(fd)\n",
    "top = корни[0]\n",
    "x = top\n",
    "y = a * (x**3) + b * (x**2) + c * x + d\n",
    "print (y)"
   ]
  },
  {
   "cell_type": "code",
   "execution_count": 8,
   "id": "f37b48fd",
   "metadata": {},
   "outputs": [
    {
     "data": {
      "text/latex": [
       "$\\displaystyle \\left(-6.32174537314726 < x \\wedge x < -3.25046383307744\\right) \\vee \\left(0.405542539558034 < x \\wedge x < \\infty\\right)$"
      ],
      "text/plain": [
       "((-6.32174537314726 < x) & (x < -3.25046383307744)) | ((0.405542539558034 < x) & (x < oo))"
      ]
     },
     "execution_count": 8,
     "metadata": {},
     "output_type": "execute_result"
    }
   ],
   "source": [
    "#Определить промежутки, на котором f > 0\n",
    "solve(Функция > 0)"
   ]
  },
  {
   "cell_type": "code",
   "execution_count": 9,
   "id": "6f004a0f",
   "metadata": {},
   "outputs": [
    {
     "data": {
      "text/latex": [
       "$\\displaystyle \\left(-3.25046383307744 < x \\wedge x < 0.405542539558034\\right) \\vee \\left(-\\infty < x \\wedge x < -6.32174537314726\\right)$"
      ],
      "text/plain": [
       "((-3.25046383307744 < x) & (x < 0.405542539558034)) | ((-oo < x) & (x < -6.32174537314726))"
      ]
     },
     "execution_count": 9,
     "metadata": {},
     "output_type": "execute_result"
    }
   ],
   "source": [
    "#Определить промежутки, на котором f < 0\n",
    "solve(Функция < 0)"
   ]
  }
 ],
 "metadata": {
  "kernelspec": {
   "display_name": "Python 3 (ipykernel)",
   "language": "python",
   "name": "python3"
  },
  "language_info": {
   "codemirror_mode": {
    "name": "ipython",
    "version": 3
   },
   "file_extension": ".py",
   "mimetype": "text/x-python",
   "name": "python",
   "nbconvert_exporter": "python",
   "pygments_lexer": "ipython3",
   "version": "3.9.13"
  }
 },
 "nbformat": 4,
 "nbformat_minor": 5
}
